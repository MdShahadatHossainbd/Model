{
  "nbformat": 4,
  "nbformat_minor": 0,
  "metadata": {
    "colab": {
      "name": "How to Train Neural Network Dataset.ipynb",
      "provenance": [],
      "authorship_tag": "ABX9TyO2XlMUDB2Ackyx1ZYZL5oG",
      "include_colab_link": true
    },
    "kernelspec": {
      "name": "python3",
      "display_name": "Python 3"
    }
  },
  "cells": [
    {
      "cell_type": "markdown",
      "metadata": {
        "id": "view-in-github",
        "colab_type": "text"
      },
      "source": [
        "<a href=\"https://colab.research.google.com/github/MdShahadatHossainbd/Model/blob/main/How_to_Train_Neural_Network_Dataset.ipynb\" target=\"_parent\"><img src=\"https://colab.research.google.com/assets/colab-badge.svg\" alt=\"Open In Colab\"/></a>"
      ]
    },
    {
      "cell_type": "code",
      "metadata": {
        "id": "434RCwCmToW0",
        "outputId": "56f7ccd9-5efe-447a-c770-00c04b738b3f",
        "colab": {
          "base_uri": "https://localhost:8080/",
          "height": 110
        }
      },
      "source": [
        "!pip install split_folders"
      ],
      "execution_count": 1,
      "outputs": [
        {
          "output_type": "stream",
          "text": [
            "Collecting split_folders\n",
            "  Downloading https://files.pythonhosted.org/packages/d1/4b/7b282b0f9319189d71e803220748929b37d019b67b1782d14c59cb1bd940/split_folders-0.4.2-py3-none-any.whl\n",
            "Installing collected packages: split-folders\n",
            "Successfully installed split-folders-0.4.2\n"
          ],
          "name": "stdout"
        }
      ]
    },
    {
      "cell_type": "code",
      "metadata": {
        "id": "LMkGn7oZTrP_"
      },
      "source": [
        "import splitfolders"
      ],
      "execution_count": 2,
      "outputs": []
    },
    {
      "cell_type": "code",
      "metadata": {
        "id": "dF10V8H0Ty9w"
      },
      "source": [
        "input_folder = \"flowers/Input\"\n",
        "output = \"flowers/processed\"\n",
        "splitfolders.ratio(input_folder, output, seed=42, ratio=(.6, .2, .2 ))"
      ],
      "execution_count": null,
      "outputs": []
    },
    {
      "cell_type": "code",
      "metadata": {
        "id": "cMuzYD9iT17e"
      },
      "source": [
        "\n",
        "help(splitfolders.ratio)"
      ],
      "execution_count": null,
      "outputs": []
    }
  ]
}